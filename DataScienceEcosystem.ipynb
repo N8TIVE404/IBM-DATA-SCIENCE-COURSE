{
  "nbformat": 4,
  "nbformat_minor": 0,
  "metadata": {
    "colab": {
      "provenance": []
    },
    "kernelspec": {
      "name": "python3",
      "display_name": "Python 3"
    },
    "language_info": {
      "name": "python"
    }
  },
  "cells": [
    {
      "cell_type": "markdown",
      "source": [
        "# Data Science Tools and Ecosystem"
      ],
      "metadata": {
        "id": "AoERsHAnv_kO"
      }
    },
    {
      "cell_type": "markdown",
      "source": [
        "In this notebook, Data Science Tools and Ecosystem are summarized."
      ],
      "metadata": {
        "id": "TlCVoKAXxAiB"
      }
    },
    {
      "cell_type": "markdown",
      "source": [
        "**Objectives:**\n",
        "\n",
        "\n",
        "*   List popular languages for data science\n",
        "*   List common libraries for data science\n",
        "*   Demonstrate arithmetic operations using python\n",
        "\n"
      ],
      "metadata": {
        "id": "fi1ucJMJ09Ro"
      }
    },
    {
      "cell_type": "markdown",
      "source": [
        "The most commonly used languages in data science are:\n",
        "1.   Python\n",
        "2.   R\n",
        "3.   Scala\n",
        "4.   SQL\n"
      ],
      "metadata": {
        "id": "xzsPIfwDxnk4"
      }
    },
    {
      "cell_type": "markdown",
      "source": [
        "Some commonly used libraries include:\n",
        "1.  Pandas\n",
        "2.  Numpy\n",
        "3.  Matplotlib"
      ],
      "metadata": {
        "id": "AUJ63L3PyNJ7"
      }
    },
    {
      "cell_type": "markdown",
      "source": [
        "| Data Science Tools |\n",
        "|:------------------ |\n",
        "|1. Jupyter Notebooks|\n",
        "|2. Apache Zeppelin  |\n",
        "|3. R Studio         |"
      ],
      "metadata": {
        "id": "omrTnaGyyjn9"
      }
    },
    {
      "cell_type": "markdown",
      "source": [
        "Below are a few examples of evaluating arithmetic in Python:"
      ],
      "metadata": {
        "id": "jqsDcjR_0E5Y"
      }
    },
    {
      "cell_type": "code",
      "source": [
        "# This is a simple arithmetic operation to multiply then add integers\n",
        "(3 * 4) + 5"
      ],
      "metadata": {
        "colab": {
          "base_uri": "https://localhost:8080/"
        },
        "id": "dLS8oR7k0Qp-",
        "outputId": "4d5350dc-1118-487a-d3a2-6aff7f98c97a"
      },
      "execution_count": 3,
      "outputs": [
        {
          "output_type": "execute_result",
          "data": {
            "text/plain": [
              "17"
            ]
          },
          "metadata": {},
          "execution_count": 3
        }
      ]
    },
    {
      "cell_type": "code",
      "source": [
        "# This will convert minutes into hours by dividing by 60\n",
        "200 / 60"
      ],
      "metadata": {
        "colab": {
          "base_uri": "https://localhost:8080/"
        },
        "id": "w5NB7oPA0f92",
        "outputId": "7ee7c73c-2f5a-4a2b-97ec-0d2ed7b75cac"
      },
      "execution_count": 4,
      "outputs": [
        {
          "output_type": "execute_result",
          "data": {
            "text/plain": [
              "3.3333333333333335"
            ]
          },
          "metadata": {},
          "execution_count": 4
        }
      ]
    },
    {
      "cell_type": "markdown",
      "source": [
        "## Author\n",
        "Deogracious Ken Kikaya"
      ],
      "metadata": {
        "id": "YWslDEgF1sO4"
      }
    }
  ]
}